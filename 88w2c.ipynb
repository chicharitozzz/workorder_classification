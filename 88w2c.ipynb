{
 "cells": [
  {
   "cell_type": "markdown",
   "metadata": {},
   "source": [
    "## 词向量模型"
   ]
  },
  {
   "cell_type": "code",
   "execution_count": 1,
   "metadata": {
    "collapsed": true
   },
   "outputs": [],
   "source": [
    "#TODO：使用语料库训练\n",
    "import json\n",
    "import numpy as np\n",
    "import re\n",
    "import jieba"
   ]
  },
  {
   "cell_type": "code",
   "execution_count": 2,
   "metadata": {
    "collapsed": true
   },
   "outputs": [],
   "source": [
    "with open('../工单数据/2018年数据.json', encoding='utf-8') as f:\n",
    "    data = json.load(f)\n",
    "\n",
    "data = np.array(data)\n",
    "X = data[:, 0]\n",
    "Y = data[:, 1]"
   ]
  },
  {
   "cell_type": "code",
   "execution_count": 3,
   "metadata": {},
   "outputs": [
    {
     "name": "stdout",
     "output_type": "stream",
     "text": [
      "112028 112028\n"
     ]
    }
   ],
   "source": [
    "print(len(Y), len(X))"
   ]
  },
  {
   "cell_type": "code",
   "execution_count": 4,
   "metadata": {
    "collapsed": true
   },
   "outputs": [],
   "source": [
    "# 删去无标签数据\n",
    "none_labels = []\n",
    "for i in range(Y.shape[0]):\n",
    "    if not Y[i]:\n",
    "        # print(X[i])\n",
    "        # print('*'*80)\n",
    "        none_labels.append(i)\n",
    "\n",
    "Y = np.delete(Y, none_labels)\n",
    "X = np.delete(X, none_labels)"
   ]
  },
  {
   "cell_type": "code",
   "execution_count": 5,
   "metadata": {},
   "outputs": [
    {
     "name": "stdout",
     "output_type": "stream",
     "text": [
      "111814 111814\n"
     ]
    }
   ],
   "source": [
    "print(len(Y), len(X))"
   ]
  },
  {
   "cell_type": "code",
   "execution_count": 6,
   "metadata": {
    "collapsed": true
   },
   "outputs": [],
   "source": [
    "# 删去#号开头的文本和空文本\n",
    "invaild_x = []\n",
    "for i in range(X.shape[0]):\n",
    "    if not X[i] or X[i].startswith('#'):\n",
    "        invaild_x.append(i)\n",
    "\n",
    "Y = np.delete(Y, invaild_x)\n",
    "X = np.delete(X, invaild_x)"
   ]
  },
  {
   "cell_type": "code",
   "execution_count": 7,
   "metadata": {},
   "outputs": [
    {
     "name": "stdout",
     "output_type": "stream",
     "text": [
      "109580 109580\n"
     ]
    }
   ],
   "source": [
    "print(len(Y), len(X))"
   ]
  },
  {
   "cell_type": "code",
   "execution_count": 8,
   "metadata": {
    "collapsed": true
   },
   "outputs": [],
   "source": [
    "# 删去废单和回访工单\n",
    "discard_x = []\n",
    "for i in range(X.shape[0]):\n",
    "    if X[i].strip().startswith('废单') or X[i].strip().startswith('回访工单'):\n",
    "        discard_x.append(i)\n",
    "\n",
    "Y = np.delete(Y, discard_x)\n",
    "X = np.delete(X, discard_x)"
   ]
  },
  {
   "cell_type": "code",
   "execution_count": 9,
   "metadata": {},
   "outputs": [
    {
     "name": "stdout",
     "output_type": "stream",
     "text": [
      "104233 104233\n"
     ]
    }
   ],
   "source": [
    "print(len(Y), len(X))"
   ]
  },
  {
   "cell_type": "code",
   "execution_count": 10,
   "metadata": {
    "collapsed": true
   },
   "outputs": [],
   "source": [
    "# 删去非受理范围工单\n",
    "non_acceptable = np.nonzero(Y[:] == '非受理范围')\n",
    "Y = np.delete(Y, non_acceptable)\n",
    "X = np.delete(X, non_acceptable)"
   ]
  },
  {
   "cell_type": "code",
   "execution_count": 11,
   "metadata": {
    "collapsed": true
   },
   "outputs": [],
   "source": [
    "# 有的无效电话不属于非受理范围\n",
    "invaild_p = []\n",
    "for i in range(X.shape[0]):\n",
    "    if X[i].startswith('无效电话'):\n",
    "        invaild_p.append(i)\n",
    "\n",
    "Y = np.delete(Y, invaild_p)\n",
    "X = np.delete(X, invaild_p)"
   ]
  },
  {
   "cell_type": "code",
   "execution_count": 12,
   "metadata": {},
   "outputs": [
    {
     "name": "stdout",
     "output_type": "stream",
     "text": [
      "100155 100155\n"
     ]
    }
   ],
   "source": [
    "print(len(Y), len(X))"
   ]
  },
  {
   "cell_type": "code",
   "execution_count": 13,
   "metadata": {
    "collapsed": true
   },
   "outputs": [],
   "source": [
    "# 加载停用词表\n",
    "def get_stop_words():\n",
    "    \"\"\"停用词列表\"\"\"\n",
    "    stop_words = []\n",
    "    with open('./static/停用词.txt', encoding='utf-8-sig') as f:\n",
    "        lines = f.readlines()\n",
    "        \n",
    "    for line in lines:\n",
    "        stop_words.append(line.strip())\n",
    "    \n",
    "    return stop_words\n",
    "\n",
    "s_words = get_stop_words()"
   ]
  },
  {
   "cell_type": "code",
   "execution_count": 14,
   "metadata": {
    "collapsed": true
   },
   "outputs": [],
   "source": [
    "import string\n",
    "\n",
    "\n",
    "def judge(word):\n",
    "    \"\"\"判断是否由英文字母加数字组成\"\"\"\n",
    "    for w in word:\n",
    "        if w not in string.printable:\n",
    "            return True\n",
    "    \n",
    "    return False  "
   ]
  },
  {
   "cell_type": "code",
   "execution_count": 16,
   "metadata": {
    "collapsed": true
   },
   "outputs": [
    {
     "name": "stdout",
     "output_type": "stream",
     "text": [
      "1.问题描述：市民反映铜山区相关问题，咨询问题处理进度。\n",
      "2.来电目的：咨询问题处理进度。\n",
      "切分后 市民反映铜山区相关问题，咨询问题处理进度。\n",
      "**************************************************\n",
      "市民前期反映国旅旅行社欺诈消费者的问题，现来电要求催单（前期工单号：XZ201804130533）。\n",
      "切分后 XZ201804130533）。\n",
      "**************************************************\n",
      "补充：\n",
      "市民前期反映洒水车在洒水作业时不避让行人，现来电补充信息（前期工单号：XZ201805120064），2018年5月14日，市民再次遇见该洒水车，再次找到司机，该洒水车司机态度非常恶劣，明确要求该洒水车司机给其道歉。且市民表示洒水车属于中治交通公司。\n",
      "切分后 \n",
      "**************************************************\n",
      "1.问题描述：市民反映铜山区问题。\n",
      "2.来电目的：希望相关部门核实处理。\n",
      "切分后 市民反映铜山区问题。\n",
      "**************************************************\n",
      "便民服务回访：Tel1803010005 。\n",
      "切分后 Tel1803010005 。\n",
      "**************************************************\n",
      "1.问题描述：市民咨询前期反映问题的处理进度。\n",
      "2.来电目的：咨询前期反映问题的处理进度。\n",
      "切分后 市民咨询前期反映问题的处理进度。\n",
      "**************************************************\n",
      "工单回访：XZ201803020847。\n",
      "切分后 XZ201803020847。\n",
      "**************************************************\n",
      "市民前期反映国旅旅行社欺诈消费者的问题，现来电要求催单（前期工单号：XZ201804130533）。\n",
      "切分后 XZ201804130533）。\n",
      "**************************************************\n",
      "市民咨询其孩子社保卡制卡状态（身份证号码：320304200401310425）。\n",
      "切分后 320304200401310425）。\n",
      "**************************************************\n",
      "便民服务回访：Tel1802270003 。\n",
      "\n",
      "切分后 Tel1802270003 。\n",
      "**************************************************\n",
      "市民来电要求撤销前期反映的问题，工单号：XZ201802281678。\n",
      "切分后 XZ201802281678。\n",
      "**************************************************\n",
      "市民是鼓楼区中山北路11号楼1单元201室的居民，反映2018年3月1日中午突然停水，水表户号：1031240，希望相关部门帮助处理。\n",
      "切分后 1031240，希望相关部门帮助处理。\n",
      "**************************************************\n",
      "市民是鼓楼区中山北路11号楼1单元201室的居民，反映2018年3月1日中午突然停水，水表户号：1031240，希望相关部门帮助处理。\n",
      "切分后 1031240，希望相关部门帮助处理。\n",
      "**************************************************\n",
      "市民来电要求撤销前期反映的问题，工单号：XZ201802281689。\n",
      "切分后 XZ201802281689。\n",
      "**************************************************\n",
      "便民服务回访：Tel1802230008 。\n",
      "切分后 Tel1802230008 。\n",
      "**************************************************\n",
      "市民来电要求撤销前期反映的问题，工单号：XZ201803010720。\n",
      "切分后 XZ201803010720。\n",
      "**************************************************\n",
      "工单回访：XZ201802271690。\n",
      "切分后 XZ201802271690。\n",
      "**************************************************\n",
      "便民工单回访：Tel1802260006。\n",
      "切分后 Tel1802260006。\n",
      "**************************************************\n",
      "便民工单回访：Tel1802230001 。\n",
      "切分后 Tel1802230001 。\n",
      "**************************************************\n",
      "工单回访：XZ201803020898。\n",
      "切分后 XZ201803020898。\n",
      "**************************************************\n",
      "1.问题描述：市民咨询前期反映问题的处理进度。\n",
      "2.来电目的：咨询前期反映问题的处理进度。\n",
      "切分后 市民咨询前期反映问题的处理进度。\n",
      "**************************************************\n",
      "市民来电要求撤销前期反映的问题，工单号：XZ201803060377。\n",
      "切分后 XZ201803060377。\n",
      "**************************************************\n",
      "便民服务回访：Tel1803020006。\n",
      "切分后 Tel1803020006。\n",
      "**************************************************\n",
      "工单回访：XZ201802270972。\n",
      "切分后 XZ201802270972。\n",
      "**************************************************\n",
      "工单回访：XZ201802271196。\n",
      "切分后 XZ201802271196。\n",
      "**************************************************\n",
      "市民来电更改前期其咨询如何补充档案调资表相关信息。更改身份证号信息：342221198802198266。\n",
      "\n",
      "\n",
      "切分后 342221198802198266。\n",
      "**************************************************\n",
      "工单回访：XZ201802271553。\n",
      "切分后 XZ201802271553。\n",
      "**************************************************\n",
      "便民服务回访：Tel1803050010。\n",
      "切分后 Tel1803050010。\n",
      "**************************************************\n",
      "工单回访：XZ201803021145。\n",
      "切分后 XZ201803021145。\n",
      "**************************************************\n",
      "工单回访：XZ201803020985。\n",
      "切分后 XZ201803020985。\n",
      "**************************************************\n",
      "便民服务回访：Tel1803040001 。\n",
      "切分后 Tel1803040001 。\n",
      "**************************************************\n",
      "市民来电要求撤销前期反映的问题，工单号：XZ201802220492。\n",
      "切分后 XZ201802220492。\n",
      "**************************************************\n",
      "便民服务回访：Tel1802250003。\n",
      "切分后 Tel1802250003。\n",
      "**************************************************\n",
      "1.问题描述：市民咨询前期反映问题的处理进度。\n",
      "2.来电目的：咨询前期反映问题的处理进度\n",
      "切分后 市民咨询前期反映问题的处理进度。\n",
      "**************************************************\n",
      "便民服务回访：Tel1803030001。\n",
      "切分后 Tel1803030001。\n",
      "**************************************************\n",
      "市民来电要求撤销前期反映的问题，工单号：XZ201803011061。\n",
      "切分后 XZ201803011061。\n",
      "**************************************************\n",
      "市民来电要求撤销前期反映的问题，工单号：XZ201803061149。\n",
      "切分后 XZ201803061149。\n",
      "**************************************************\n",
      "便民服务回访：Tel1803010005 。\n",
      "切分后 Tel1803010005 。\n",
      "**************************************************\n",
      "回访电话：XZ201802281257。\n",
      "切分后 XZ201802281257。\n",
      "**************************************************\n",
      "工单回访：XZ201802250737。\n",
      "切分后 XZ201802250737。\n",
      "**************************************************\n",
      "回复工单：XZ201802270359。\n",
      "切分后 XZ201802270359。\n",
      "**************************************************\n",
      "市民来电要求撤销前期反映的问题，工单号：XZ201803011193。\n",
      "切分后 XZ201803011193。\n",
      "**************************************************\n",
      "工单回访：XZ201802270427。\n",
      "切分后 XZ201802270427。\n",
      "**************************************************\n",
      "便民服务回访：Tel1802230004。\n",
      "切分后 Tel1802230004。\n",
      "**************************************************\n",
      "便民回访工单：Tel1803040004。\n",
      "切分后 Tel1803040004。\n",
      "**************************************************\n",
      "便民工单回访：Tel1803010003。\n",
      "切分后 Tel1803010003。\n",
      "**************************************************\n",
      "便民服务回访：Tel1802280005。\n",
      "切分后 Tel1802280005。\n",
      "**************************************************\n",
      "工单回访：XZ201802271665。\n",
      "切分后 XZ201802271665。\n",
      "**************************************************\n",
      "市民来电要求撤销前期反映的问题，工单号：XZ201803011312。\n",
      "切分后 XZ201803011312。\n",
      "**************************************************\n",
      "便民工单回访：Tel1802260005 。\n",
      "切分后 Tel1802260005 。\n",
      "**************************************************\n",
      "工单回复：XZ201802281578。\n",
      "切分后 XZ201802281578。\n",
      "**************************************************\n",
      "便民服务回访：Tel1802110002 。\n",
      "切分后 Tel1802110002 。\n",
      "**************************************************\n",
      "便民服务回访：Tel1802260008 。\n",
      "切分后 Tel1802260008 。\n",
      "**************************************************\n",
      "便民服务回访：XZ201803030573。\n",
      "切分后 XZ201803030573。\n",
      "**************************************************\n",
      "便民服务回访：Tel1803050012。\n",
      "切分后 Tel1803050012。\n",
      "**************************************************\n",
      "便民服务回访：Tel1802260001。\n",
      "切分后 Tel1802260001。\n",
      "**************************************************\n",
      "已经超期催单：\n",
      "市民前期反映泉山区荣盛城4期建筑工地夜间施工噪音扰民，现来电要求催单（前期工单号：XZ201803190607）。\n",
      "切分后 \n",
      "**************************************************\n",
      "1.问题描述：\n",
      "2.来电目的：撤单：\n",
      "市民前期反映10路公交车司机态度恶劣的相关问题，现来电要求撤单（前期工单号：XZ201804140859），撤单原因是市民不想反映该问题。\n",
      "切分后 \n",
      "**************************************************\n",
      "已经超期催单： \n",
      "市民前期反映云龙区和平上东小区2期21号楼1单元101室的居民私自开设后门圈占绿地，现来电要求催单（前期工单号：XZ201804031181）。\n",
      "切分后 \n",
      "**************************************************\n",
      "1.问题描述：市民反映邳州市相关问题。\n",
      "2.来电目的：希望相关部门核实处理。\n",
      "切分后 市民反映邳州市相关问题。\n",
      "**************************************************\n",
      "1.问题描述：市民反映沛县相关问题。\n",
      "2.来电目的：咨询如何处理。\n",
      "切分后 市民反映沛县相关问题。\n",
      "**************************************************\n",
      "1.问题描述：市民咨询是否有工作人员与其联系。\n",
      "2.来电目的：咨询是否有工作人员与其联系。\n",
      "切分后 市民咨询是否有工作人员与其联系。\n",
      "**************************************************\n"
     ]
    }
   ],
   "source": [
    "#数据集预处理\n",
    "jieba.load_userdict('./static/my_dict.txt')  # 加载分词词典\n",
    "\n",
    "data_list = []\n",
    "revisit_x = []  # 删除回访工单\n",
    "\n",
    "for i in range(X.shape[0]):\n",
    "    x = X[i]\n",
    "    # 处理特殊工单:催单、补单、撤单、撤销\n",
    "    if x.strip().startswith(('催单', '补单','撤单','撤销', '催办','转接')): \n",
    "        quert_l = re.split(r'\\n+',x.strip())  # 以回车符分割字符串\n",
    "\n",
    "        if len(quert_l) == 3:  # 催单、问题描述：、来电目的：\n",
    "            q = re.findall('：(.*)', quert_l[1])[0].strip() # 匹配问题描述后文本\n",
    "        \n",
    "        elif len(quert_l) == 1:# 催单：  \n",
    "            q = re.findall('：(.*)', quert_l[0])[0].strip() # 匹配冒号后文本\n",
    "        \n",
    "        else: #催单:\\n\n",
    "            q = quert_l[1].strip()\n",
    "    \n",
    "    else:  # 处理正常工单\n",
    "        quert_l = re.split(r'\\n+',x.strip())  # 以回车符分割字符串\n",
    "        match_l = re.findall('：(.*)', quert_l[0]) # 匹配冒号后文本;1.问题描述：\n",
    "        if not match_l:\n",
    "            q = quert_l[0].strip()\n",
    "        else:\n",
    "            q = match_l[0].strip()\n",
    "        \n",
    "        \n",
    "    # 分词\n",
    "    seg_sentence = jieba.cut(q, cut_all=False)\n",
    "    tmp_l = []\n",
    "\n",
    "    # 遍历停用词表,去停用词\n",
    "    for w in seg_sentence:\n",
    "        if w not in s_words and len(w) >= 2 and not w.isdigit() and judge(w):  # TODO:判断词是否为小数\n",
    "            tmp_l.append(w)\n",
    "\n",
    "    if not tmp_l: # 工单是便民服务回访、工单回访;删去工单\n",
    "        revisit_x.append(i)\n",
    "#         print(x)\n",
    "#         print('切分后',q)\n",
    "#         print('*'*50)\n",
    "\n",
    "    data_list.append(tmp_l)\n",
    "\n",
    "\n",
    "data_list = np.array(data_list)\n",
    "\n",
    "data_list = np.delete(data_list, revisit_x)\n",
    "Y = np.delete(Y, revisit_x)"
   ]
  },
  {
   "cell_type": "code",
   "execution_count": 44,
   "metadata": {},
   "outputs": [
    {
     "name": "stdout",
     "output_type": "stream",
     "text": [
      "100093 100093\n"
     ]
    }
   ],
   "source": [
    "print(len(data_list), len(Y))        "
   ]
  },
  {
   "cell_type": "code",
   "execution_count": 115,
   "metadata": {},
   "outputs": [
    {
     "name": "stdout",
     "output_type": "stream",
     "text": [
      "催单：\n",
      "1、问题描述：服务对象表示2018年3月12日了解到徐州市丰县师寨镇李庄村后中队将进行拆迁，且现已进行评估，自己没有签订拆迁协议。\n",
      "2、诉求目的：服务对象希望相关部门帮助协调不要对此处进行拆迁\n",
      "3、事发时间：2018年3月12日\n",
      "4、详细地址：徐州市丰县师寨镇李庄村后中队\n",
      "********************************************************************************\n"
     ]
    }
   ],
   "source": [
    "# jieba.load_userdict('./12345analysis/my_dict.txt')\n",
    "\n",
    "# res = []\n",
    "\n",
    "# for x in X:\n",
    "#     if not x.strip().startswith('催单') and not x.strip().startswith('补单') and not x.strip().startswith('撤单'):\n",
    "#         quert_l = re.split(r'\\n+',x.strip())\n",
    "#         match_l = re.findall('：(.*)', quert_l[0])\n",
    "#         if not match_l:\n",
    "#             res.append(quert_l[0])\n",
    "#         else:\n",
    "#             res.append(re.findall('：(.*)', quert_l[0])[0].strip())\n",
    "\n",
    "#     if x.strip().startswith('催单') or x.strip().startswith('补单') or x.strip().startswith('撤单'):\n",
    "#         r = re.split(r'\\n+',x.strip())\n",
    "#         if len(r) == 3:  # 有问题描述、来电目的\n",
    "#             t = re.findall('：(.*)', r[1])[0].strip()\n",
    "#         if len(r) == 1:\n",
    "#             t = re.findall('：(.*)', r[0])[0].strip()\n",
    "#         if len(r) == 5:\n",
    "#             t = r[1].strip()\n",
    "#             print(x)\n",
    "#             print('*'*80)\n",
    "            \n",
    "#         seg = jieba.cut(t, cut_all=False)\n",
    "#         tmp_l = []\n",
    "#         for w in seg:\n",
    "#             if w not in s_words and len(w) >= 2 and not w.isdigit() and judge(w):\n",
    "#                 tmp_l.append(w)\n",
    "\n",
    "#         res.append(tmp_l)"
   ]
  },
  {
   "cell_type": "code",
   "execution_count": 19,
   "metadata": {
    "collapsed": true
   },
   "outputs": [],
   "source": [
    "# 保存语料\n",
    "# with open('810corpus.json', 'w', encoding='utf-8') as f:\n",
    "#     json.dump(data_list.tolist(), f, ensure_ascii=False)"
   ]
  },
  {
   "cell_type": "code",
   "execution_count": 20,
   "metadata": {},
   "outputs": [
    {
     "name": "stderr",
     "output_type": "stream",
     "text": [
      "F:\\anaconda\\lib\\site-packages\\gensim\\utils.py:1209: UserWarning: detected Windows; aliasing chunkize to chunkize_serial\n",
      "  warnings.warn(\"detected Windows; aliasing chunkize to chunkize_serial\")\n"
     ]
    }
   ],
   "source": [
    "# word2vec训练词向量\n",
    "from gensim.models import Word2Vec"
   ]
  },
  {
   "cell_type": "code",
   "execution_count": 21,
   "metadata": {
    "collapsed": true
   },
   "outputs": [],
   "source": [
    "model = Word2Vec(data_list, size=100, window=5, min_count=5)"
   ]
  },
  {
   "cell_type": "code",
   "execution_count": 22,
   "metadata": {},
   "outputs": [
    {
     "data": {
      "text/plain": [
       "array([-1.08414829,  0.54210341, -0.4031122 ,  0.48025766, -1.14444888,\n",
       "       -1.92862988,  0.00427932, -0.61854035, -1.07644463,  0.64203483,\n",
       "       -0.88129771, -0.3059116 , -0.49983203, -1.67840242,  1.10129213,\n",
       "        2.40429926, -1.20147848, -1.85267937,  0.28966635, -0.53846055,\n",
       "        0.68714809,  0.53866065,  0.60825676, -2.78674316,  0.17950872,\n",
       "        0.67289668, -0.82658482,  2.21098399, -1.97404611, -0.8330397 ,\n",
       "       -1.08199215,  0.35954303,  0.70492953,  1.46160269,  0.60551614,\n",
       "       -0.76757348,  0.3890844 ,  0.41197038,  0.60996038, -0.43112034,\n",
       "        0.15025881, -1.10110569,  0.22174355, -0.66210145,  1.14905047,\n",
       "       -0.18863261,  1.30557764,  1.45692301,  1.43132293, -1.46393394,\n",
       "       -1.23628449,  0.18532652, -0.91341114,  1.12808692, -3.56868792,\n",
       "       -2.15043497,  0.76306701,  1.49458456,  1.85907793,  2.34432125,\n",
       "        1.27395403, -1.47399116,  1.67445409, -2.58999062,  1.13852239,\n",
       "        0.10911949,  1.58281457, -0.23516248, -1.46640503, -3.20666194,\n",
       "       -1.76044381,  1.42639804,  1.96164393,  1.5067606 , -0.40735167,\n",
       "        0.55994385, -2.31964636,  0.70098484,  3.50262046, -0.05693069,\n",
       "        0.02021377, -0.09955733,  0.17926617,  1.39448452, -0.64176291,\n",
       "        0.50704992,  1.25457609, -0.61520094, -1.59533989,  0.04652812,\n",
       "       -3.12717843,  2.56906462,  2.65583038,  0.23754373, -1.76719689,\n",
       "       -1.15101862, -0.14836009, -0.67364883,  0.41841239, -1.29982054], dtype=float32)"
      ]
     },
     "execution_count": 22,
     "metadata": {},
     "output_type": "execute_result"
    }
   ],
   "source": [
    "model.wv['公积金']"
   ]
  },
  {
   "cell_type": "code",
   "execution_count": 23,
   "metadata": {
    "collapsed": true
   },
   "outputs": [
    {
     "data": {
      "text/plain": [
       "[('住房', 0.8258473873138428),\n",
       " ('组合型', 0.7659595012664795),\n",
       " ('管理中心', 0.7514011263847351),\n",
       " ('贷款', 0.7482126951217651),\n",
       " ('可否', 0.7480394840240479),\n",
       " ('多长时间', 0.7460739612579346),\n",
       " ('还款', 0.743374228477478),\n",
       " ('商业贷款', 0.7430015802383423),\n",
       " ('选择', 0.7415223121643066),\n",
       " ('担保人', 0.7392716407775879),\n",
       " ('多久', 0.7376024723052979),\n",
       " ('买房', 0.7362715005874634),\n",
       " ('模式', 0.7346478700637817),\n",
       " ('提取', 0.7344260215759277),\n",
       " ('年限', 0.7318391799926758),\n",
       " ('偿还', 0.7292807102203369),\n",
       " ('填写', 0.7276386022567749),\n",
       " ('县区', 0.7269107103347778),\n",
       " ('配偶', 0.7268178462982178),\n",
       " ('几次', 0.7178781032562256)]"
      ]
     },
     "execution_count": 23,
     "metadata": {},
     "output_type": "execute_result"
    }
   ],
   "source": [
    "model.wv.most_similar('公积金', topn=20)"
   ]
  },
  {
   "cell_type": "code",
   "execution_count": 24,
   "metadata": {},
   "outputs": [
    {
     "data": {
      "text/plain": [
       "0.29624555"
      ]
     },
     "execution_count": 24,
     "metadata": {},
     "output_type": "execute_result"
    }
   ],
   "source": [
    "model.wv.similarity('转接', '12345热线')"
   ]
  },
  {
   "cell_type": "code",
   "execution_count": 25,
   "metadata": {
    "collapsed": true
   },
   "outputs": [],
   "source": [
    "model.save('88model')"
   ]
  },
  {
   "cell_type": "code",
   "execution_count": 26,
   "metadata": {
    "collapsed": true
   },
   "outputs": [],
   "source": [
    "model = Word2Vec.load('88model')"
   ]
  },
  {
   "cell_type": "code",
   "execution_count": 30,
   "metadata": {},
   "outputs": [
    {
     "data": {
      "text/plain": [
       "(10407, 100)"
      ]
     },
     "execution_count": 30,
     "metadata": {},
     "output_type": "execute_result"
    }
   ],
   "source": [
    "# 训练好的词向量数组\n",
    "model.wv.vectors.shape"
   ]
  },
  {
   "cell_type": "code",
   "execution_count": 31,
   "metadata": {
    "collapsed": true
   },
   "outputs": [],
   "source": [
    "# 建立字典，key为单词，value为单词的词向量数组\n",
    "words = model.wv.vocab.keys()\n",
    "w2c_dic = dict()\n",
    "\n",
    "for w in words:\n",
    "    warray = model.wv.get_vector(w)\n",
    "    w2c_dic[w] = warray"
   ]
  },
  {
   "cell_type": "code",
   "execution_count": 32,
   "metadata": {},
   "outputs": [
    {
     "data": {
      "text/plain": [
       "array([-1.08414829,  0.54210341, -0.4031122 ,  0.48025766, -1.14444888,\n",
       "       -1.92862988,  0.00427932, -0.61854035, -1.07644463,  0.64203483,\n",
       "       -0.88129771, -0.3059116 , -0.49983203, -1.67840242,  1.10129213,\n",
       "        2.40429926, -1.20147848, -1.85267937,  0.28966635, -0.53846055,\n",
       "        0.68714809,  0.53866065,  0.60825676, -2.78674316,  0.17950872,\n",
       "        0.67289668, -0.82658482,  2.21098399, -1.97404611, -0.8330397 ,\n",
       "       -1.08199215,  0.35954303,  0.70492953,  1.46160269,  0.60551614,\n",
       "       -0.76757348,  0.3890844 ,  0.41197038,  0.60996038, -0.43112034,\n",
       "        0.15025881, -1.10110569,  0.22174355, -0.66210145,  1.14905047,\n",
       "       -0.18863261,  1.30557764,  1.45692301,  1.43132293, -1.46393394,\n",
       "       -1.23628449,  0.18532652, -0.91341114,  1.12808692, -3.56868792,\n",
       "       -2.15043497,  0.76306701,  1.49458456,  1.85907793,  2.34432125,\n",
       "        1.27395403, -1.47399116,  1.67445409, -2.58999062,  1.13852239,\n",
       "        0.10911949,  1.58281457, -0.23516248, -1.46640503, -3.20666194,\n",
       "       -1.76044381,  1.42639804,  1.96164393,  1.5067606 , -0.40735167,\n",
       "        0.55994385, -2.31964636,  0.70098484,  3.50262046, -0.05693069,\n",
       "        0.02021377, -0.09955733,  0.17926617,  1.39448452, -0.64176291,\n",
       "        0.50704992,  1.25457609, -0.61520094, -1.59533989,  0.04652812,\n",
       "       -3.12717843,  2.56906462,  2.65583038,  0.23754373, -1.76719689,\n",
       "       -1.15101862, -0.14836009, -0.67364883,  0.41841239, -1.29982054], dtype=float32)"
      ]
     },
     "execution_count": 32,
     "metadata": {},
     "output_type": "execute_result"
    }
   ],
   "source": [
    "w2c_dic['公积金']"
   ]
  },
  {
   "cell_type": "code",
   "execution_count": 41,
   "metadata": {},
   "outputs": [
    {
     "data": {
      "text/plain": [
       "(100093, 100)"
      ]
     },
     "execution_count": 41,
     "metadata": {},
     "output_type": "execute_result"
    }
   ],
   "source": [
    "# 词条未出现过，随机生成词向量。\n",
    "# 词向量累加求平均值作为文本表示\n",
    "docs2vec = []\n",
    "key_l = w2c_dic.keys()\n",
    "for text in data_list:\n",
    "    d2v = np.zeros((100,))\n",
    "    length = len(text)\n",
    "\n",
    "    for w in text:\n",
    "        if w in key_l:\n",
    "            d2v += w2c_dic[w]\n",
    "\n",
    "    docs2vec.append(d2v/length)\n",
    "\n",
    "np.array(docs2vec).shape"
   ]
  },
  {
   "cell_type": "code",
   "execution_count": 42,
   "metadata": {
    "collapsed": true
   },
   "outputs": [],
   "source": [
    "from sklearn.ensemble import RandomForestClassifier\n",
    "\n",
    "class Textclassify:\n",
    "    def __init__(self, X, Y, stop_words):\n",
    "        self.X = X\n",
    "        self.Y = Y\n",
    "        self.s_words = stop_words\n",
    "\n",
    "    def cross_validation(self):\n",
    "        \"\"\"交叉验证，90%数据用于训练，10%数据用于测试\"\"\"\n",
    "        data = list(zip(self.X, self.Y))\n",
    "        sep = int(len(data) * 0.9)\n",
    "        np.random.shuffle(data)  # 数据乱序\n",
    "\n",
    "        train_data = data[:sep]\n",
    "        test_data = data[sep:]\n",
    "\n",
    "        X_train, Y_train = zip(*train_data)\n",
    "        X_test, Y_test = zip(*test_data)\n",
    "\n",
    "        return X_train, Y_train, X_test, Y_test\n",
    "\n",
    "    def classify(self):\n",
    "        \"\"\"分类\"\"\"\n",
    "        acc_li = []\n",
    "        clf = RandomForestClassifier(n_estimators=100)  # 参数设置\n",
    "        \n",
    "        for i in range(10):\n",
    "            X_train, Y_train, X_test, Y_test = self.cross_validation()\n",
    "            clf.fit(X_train, Y_train)\n",
    "            acc = clf.score(X_test, Y_test)\n",
    "            print(acc)\n",
    "            acc_li.append(acc)\n",
    "        \n",
    "        return acc_li"
   ]
  },
  {
   "cell_type": "code",
   "execution_count": 43,
   "metadata": {},
   "outputs": [
    {
     "name": "stdout",
     "output_type": "stream",
     "text": [
      "0.432926829268\n",
      "0.429328268693\n",
      "0.4306277489\n",
      "0.419732107157\n",
      "0.429128348661\n",
      "0.432526989204\n",
      "0.429228308677\n",
      "0.430827668932\n",
      "0.435725709716\n",
      "0.437824870052\n"
     ]
    }
   ],
   "source": [
    "tc = Textclassify(docs2vec, Y, s_words)\n",
    "acc = tc.classify()"
   ]
  },
  {
   "cell_type": "code",
   "execution_count": null,
   "metadata": {
    "collapsed": true
   },
   "outputs": [],
   "source": []
  }
 ],
 "metadata": {
  "kernelspec": {
   "display_name": "Python 3",
   "language": "python",
   "name": "python3"
  },
  "language_info": {
   "codemirror_mode": {
    "name": "ipython",
    "version": 3
   },
   "file_extension": ".py",
   "mimetype": "text/x-python",
   "name": "python",
   "nbconvert_exporter": "python",
   "pygments_lexer": "ipython3",
   "version": "3.6.1"
  }
 },
 "nbformat": 4,
 "nbformat_minor": 2
}
