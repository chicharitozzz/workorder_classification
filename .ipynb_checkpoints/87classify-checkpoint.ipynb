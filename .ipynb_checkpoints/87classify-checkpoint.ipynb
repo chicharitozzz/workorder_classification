{
 "cells": [
  {
   "cell_type": "markdown",
   "metadata": {},
   "source": [
    "## 词袋模型"
   ]
  },
  {
   "cell_type": "code",
   "execution_count": 1,
   "metadata": {
    "collapsed": true
   },
   "outputs": [],
   "source": [
    "import json\n",
    "import numpy as np\n",
    "import jieba\n",
    "import re\n",
    "import string\n",
    "from sklearn.feature_extraction.text import TfidfTransformer\n",
    "from sklearn.feature_extraction.text import CountVectorizer\n",
    "from sklearn.linear_model import LogisticRegression\n",
    "from sklearn.ensemble import RandomForestClassifier\n",
    "from sklearn.svm import SVC\n",
    "from sklearn.decomposition import PCA\n",
    "from sklearn.metrics import classification_report\n",
    "import multiprocessing\n",
    "from sklearn.externals import joblib"
   ]
  },
  {
   "cell_type": "code",
   "execution_count": 2,
   "metadata": {
    "collapsed": true
   },
   "outputs": [],
   "source": [
    "with open('../工单数据/2018年数据.json', encoding='utf-8') as f:\n",
    "    data = json.load(f)\n",
    "\n",
    "data = np.array(data)"
   ]
  },
  {
   "cell_type": "code",
   "execution_count": 3,
   "metadata": {
    "scrolled": false
   },
   "outputs": [
    {
     "name": "stdout",
     "output_type": "stream",
     "text": [
      "112028 112028\n"
     ]
    }
   ],
   "source": [
    "Y = data[:, 1] # 标签\n",
    "X = data[:, 0]\n",
    "\n",
    "print(len(Y), len(X))"
   ]
  },
  {
   "cell_type": "code",
   "execution_count": 4,
   "metadata": {},
   "outputs": [
    {
     "name": "stdout",
     "output_type": "stream",
     "text": [
      "111814 111814\n"
     ]
    }
   ],
   "source": [
    "# 删去无标签数据\n",
    "none_labels = []\n",
    "for i in range(Y.shape[0]):\n",
    "    if not Y[i]:\n",
    "        none_labels.append(i)\n",
    "\n",
    "Y = np.delete(Y, none_labels)\n",
    "X = np.delete(X, none_labels)\n",
    "\n",
    "print(len(Y), len(X))"
   ]
  },
  {
   "cell_type": "code",
   "execution_count": 5,
   "metadata": {},
   "outputs": [
    {
     "name": "stdout",
     "output_type": "stream",
     "text": [
      "109580 109580\n"
     ]
    }
   ],
   "source": [
    "# 删去#号开头的文本和空文本\n",
    "invaild_x = []\n",
    "for i in range(X.shape[0]):\n",
    "    if not X[i] or X[i].startswith('#'):\n",
    "        invaild_x.append(i)\n",
    "\n",
    "Y = np.delete(Y, invaild_x)\n",
    "X = np.delete(X, invaild_x)\n",
    "\n",
    "print(len(Y), len(X))"
   ]
  },
  {
   "cell_type": "code",
   "execution_count": 6,
   "metadata": {},
   "outputs": [
    {
     "name": "stdout",
     "output_type": "stream",
     "text": [
      "104233 104233\n"
     ]
    }
   ],
   "source": [
    "# 删去废单和回访工单\n",
    "discard_x = []\n",
    "for i in range(X.shape[0]):\n",
    "    if X[i].strip().startswith('废单') or X[i].strip().startswith('回访工单'):\n",
    "        discard_x.append(i)\n",
    "\n",
    "Y = np.delete(Y, discard_x)\n",
    "X = np.delete(X, discard_x)\n",
    "\n",
    "print(len(Y), len(X))"
   ]
  },
  {
   "cell_type": "code",
   "execution_count": 7,
   "metadata": {},
   "outputs": [
    {
     "name": "stdout",
     "output_type": "stream",
     "text": [
      "100167 100167\n"
     ]
    }
   ],
   "source": [
    "# 删去非受理范围工单\n",
    "non_acceptable = np.nonzero(Y[:] == '非受理范围')\n",
    "Y = np.delete(Y, non_acceptable)\n",
    "X = np.delete(X, non_acceptable)\n",
    "\n",
    "print(len(Y), len(X))"
   ]
  },
  {
   "cell_type": "code",
   "execution_count": 8,
   "metadata": {},
   "outputs": [
    {
     "name": "stdout",
     "output_type": "stream",
     "text": [
      "100155 100155\n"
     ]
    }
   ],
   "source": [
    "# 有的无效电话不属于非受理范围\n",
    "invaild_p = []\n",
    "for i in range(X.shape[0]):\n",
    "    if X[i].startswith('无效电话'):\n",
    "        invaild_p.append(i)\n",
    "\n",
    "Y = np.delete(Y, invaild_p)\n",
    "X = np.delete(X, invaild_p)\n",
    "\n",
    "print(len(Y), len(X))"
   ]
  },
  {
   "cell_type": "code",
   "execution_count": 9,
   "metadata": {
    "collapsed": true
   },
   "outputs": [],
   "source": [
    "def judge(word):\n",
    "    \"\"\"判断是否由英文字母加数字组成\"\"\"\n",
    "    for w in word:\n",
    "        if w not in string.printable:\n",
    "            return True\n",
    "    \n",
    "    return False  "
   ]
  },
  {
   "cell_type": "code",
   "execution_count": 10,
   "metadata": {},
   "outputs": [
    {
     "name": "stderr",
     "output_type": "stream",
     "text": [
      "Building prefix dict from the default dictionary ...\n",
      "Loading model from cache C:\\Users\\44502\\AppData\\Local\\Temp\\jieba.cache\n",
      "Loading model cost 0.821 seconds.\n",
      "Prefix dict has been built succesfully.\n"
     ]
    }
   ],
   "source": [
    "# 分词字典中增加新词\n",
    "# jieba.add_word('铜山区',tag='n')\n",
    "# jieba.add_word('法桐树',tag='n')\n",
    "# jieba.add_word('12345热线',tag='n')\n",
    "jieba.load_userdict('./static/my_dict.txt')"
   ]
  },
  {
   "cell_type": "code",
   "execution_count": 11,
   "metadata": {},
   "outputs": [
    {
     "data": {
      "text/plain": [
       "['徐州市', '云龙区', '鼓楼区', '贾汪区', '泉山区']"
      ]
     },
     "execution_count": 11,
     "metadata": {},
     "output_type": "execute_result"
    }
   ],
   "source": [
    "# 更新停用词列表\n",
    "def get_stop_words():\n",
    "    \"\"\"停用词列表\"\"\"\n",
    "    stop_words = []\n",
    "    with open('./static/停用词.txt', encoding='utf-8-sig') as f:\n",
    "        lines = f.readlines()\n",
    "        \n",
    "    for line in lines:\n",
    "        stop_words.append(line.strip())\n",
    "    \n",
    "    return stop_words\n",
    "\n",
    "s_words = get_stop_words()\n",
    "s_words[:5]"
   ]
  },
  {
   "cell_type": "code",
   "execution_count": 12,
   "metadata": {
    "collapsed": true
   },
   "outputs": [],
   "source": [
    "# 切分文本\n",
    "\n",
    "data_list = []\n",
    "revisit_x = []  # 删除回访工单\n",
    "\n",
    "for i in range(X.shape[0]):\n",
    "    x = X[i]\n",
    "    # 处理特殊工单:催单、补单、撤单、撤销\n",
    "    if x.strip().startswith(('催单', '补单','撤单','撤销', '催办','转接')): \n",
    "        quert_l = re.split(r'\\n+',x.strip())  # 以回车符分割字符串\n",
    "\n",
    "        if len(quert_l) == 3:  # 催单、问题描述：、来电目的：\n",
    "            q = re.findall('：(.*)', quert_l[1])[0].strip() # 匹配问题描述后文本\n",
    "        \n",
    "        elif len(quert_l) == 1:# 催单：  \n",
    "            q = re.findall('：(.*)', quert_l[0])[0].strip() # 匹配冒号后文本\n",
    "        \n",
    "        else: #催单:\\n\n",
    "            q = quert_l[1].strip()\n",
    "    \n",
    "    else:  # 处理正常工单\n",
    "        quert_l = re.split(r'\\n+',x.strip())  # 以回车符分割字符串\n",
    "        match_l = re.findall('：(.*)', quert_l[0]) # 匹配冒号后文本;1.问题描述：\n",
    "        if not match_l:\n",
    "            q = quert_l[0].strip()\n",
    "        else:\n",
    "            q = match_l[0].strip()\n",
    "    \n",
    "    # 分词\n",
    "    seg_sentence = jieba.cut(q, cut_all=False)\n",
    "    tmp_l = []\n",
    "    \n",
    "    # 遍历停用词表,去停用词\n",
    "    for w in seg_sentence:\n",
    "        if w not in s_words and len(w) >= 2 and not w.isdigit() and judge(w):  # TODO:判断词是否为小数\n",
    "            tmp_l.append(w)\n",
    "            \n",
    "    if not tmp_l: # 工单是便民服务回访、工单回访;删去工单\n",
    "        revisit_x.append(i)\n",
    "    \n",
    "    data_list.append(' '.join(tmp_l))\n",
    "\n",
    "data_list = np.array(data_list)\n",
    "\n",
    "data_list = np.delete(data_list, revisit_x)\n",
    "Y = np.delete(Y, revisit_x)"
   ]
  },
  {
   "cell_type": "code",
   "execution_count": 13,
   "metadata": {},
   "outputs": [
    {
     "name": "stdout",
     "output_type": "stream",
     "text": [
      "100093 100093\n"
     ]
    },
    {
     "data": {
      "text/plain": [
       "array(['查询 住房 公积金 账户', '北京 缴存 公积金 徐州 申请 异地 贷款', '无锡 缴存 公积金',\n",
       "       '新城区 奥都花园 居民 小区 上房 开发商 统一 安装 太阳能 管道 连接 安装 加压泵 导致 居民 家中 太阳能',\n",
       "       '职工 购买 商品房 办理 住房 公积金 提取 手续', '开发区 金苑路 龙潭环路 法桐树 结了 毛球 吹散 毛球 导致 迷眼',\n",
       "       '异地 购房 提取 公积金 材料', '转接 12345热线', '二手房 公积金 贷款 房屋 面积',\n",
       "       '加州玫瑰园 小区 业主 物业 号楼 西侧 通往 2期 小路 路障 围挡 导致 业主 车辆 通行 规划 图纸 该处 有路 1期 2期 物业管理 封堵 不合理'], \n",
       "      dtype='<U199')"
      ]
     },
     "execution_count": 13,
     "metadata": {},
     "output_type": "execute_result"
    }
   ],
   "source": [
    "print(len(data_list), len(Y))\n",
    "data_list[:10]"
   ]
  },
  {
   "cell_type": "code",
   "execution_count": 14,
   "metadata": {},
   "outputs": [
    {
     "name": "stdout",
     "output_type": "stream",
     "text": [
      "资源监管样本数量为: 8119\n",
      "三农相关样本数量为: 561\n",
      "治安法制样本数量为: 7382\n",
      "行业监管样本数量为: 888\n",
      "民生保障样本数量为: 2713\n",
      "城市综合样本数量为: 46202\n",
      "经济综合样本数量为: 418\n",
      "党政群体样本数量为: 30659\n",
      "安全监管样本数量为: 640\n",
      "科教文卫样本数量为: 2511\n"
     ]
    }
   ],
   "source": [
    "cls = list(set(Y))\n",
    "for c in cls:\n",
    "    print(c+'样本数量为:',np.count_nonzero(Y[:] == c))"
   ]
  },
  {
   "cell_type": "code",
   "execution_count": 29,
   "metadata": {
    "collapsed": true
   },
   "outputs": [],
   "source": [
    "# with open('corpus.json', 'w', encoding='utf-8') as f:\n",
    "#     json.dump(data_list.tolist(), f, ensure_ascii=False)"
   ]
  },
  {
   "cell_type": "code",
   "execution_count": 16,
   "metadata": {
    "collapsed": true
   },
   "outputs": [],
   "source": [
    "class Textclassify:\n",
    "    def __init__(self, X, Y, stop_words):\n",
    "        self.X = X\n",
    "        self.Y = Y\n",
    "        self.s_words = stop_words\n",
    "\n",
    "    def cross_validation(self, X_vec):\n",
    "        \"\"\"交叉验证，90%数据用于训练，10%数据用于测试\"\"\"\n",
    "        data = list(zip(X_vec, self.Y))\n",
    "        sep = int(len(data) * 0.9)\n",
    "        np.random.shuffle(data)  # 数据乱序\n",
    "\n",
    "        train_data = data[:sep]\n",
    "        test_data = data[sep:]\n",
    "\n",
    "        X_train, Y_train = zip(*train_data)\n",
    "        X_test, Y_test = zip(*test_data)\n",
    "\n",
    "        return X_train, Y_train, X_test, Y_test\n",
    "\n",
    "    def proprocessing(self):\n",
    "        \"\"\"数据预处理：向量化；计算TF-IDF权重\"\"\"\n",
    "        vectorizer = CountVectorizer(stop_words=self.s_words, min_df=1e-3)  # 分词时去停用词\n",
    "        vec_train = vectorizer.fit_transform(self.X)\n",
    "        print('特征数量为:{}'.format(len(vectorizer.get_feature_names())))\n",
    "\n",
    "        transformer = TfidfTransformer()\n",
    "        tfidf = transformer.fit_transform(vec_train)\n",
    "        print('文本向量维度:{}'.format(tfidf.shape))\n",
    "        tfidf = tfidf.toarray()\n",
    "        return tfidf\n",
    "\n",
    "    @staticmethod\n",
    "    def lower_dimension(tfidf):\n",
    "        \"\"\"PCA降维\"\"\"\n",
    "        pca = PCA(n_components=100, copy=False)  # 向量维度\n",
    "        X_lowd = pca.fit_transform(tfidf)\n",
    "\n",
    "        return X_lowd\n",
    "    \n",
    "    def rf_classify(self):\n",
    "        \"\"\"rf分类\"\"\"\n",
    "        tfidf = self.proprocessing()\n",
    "        X_lowd = self.lower_dimension(tfidf)\n",
    "        \n",
    "        acc_d = {}\n",
    "        for i in range(10, 150, 10): # 随机森林中的子树数量\n",
    "            acc_li = []\n",
    "            clf = RandomForestClassifier(n_estimators=i, n_jobs=multiprocessing.cpu_count()-2)  # 参数设置\n",
    "            for _ in range(20):\n",
    "                X_train, Y_train, X_test, Y_test = self.cross_validation(X_lowd)\n",
    "                clf.fit(X_train, Y_train)\n",
    "                acc = clf.score(X_test, Y_test)\n",
    "                print(i, acc)\n",
    "                acc_li.append(acc)\n",
    "            \n",
    "            acc_d[i] = acc_li\n",
    "        \n",
    "        return acc_d\n",
    "    \n",
    "    def lr_classify(self):\n",
    "        \"\"\"lr分类\"\"\"\n",
    "        tfidf = self.proprocessing()\n",
    "        X_lowd = self.lower_dimension(tfidf)\n",
    "        \n",
    "        acc_lr = []\n",
    "        clf = LogisticRegression(class_weight='balanced', solver='liblinear', n_jobs=-1,max_iter=200)\n",
    "#         clf = SVC(kernel='rbf', class_weight='balanced', max_iter=200)\n",
    "        \n",
    "        for _ in range(20):\n",
    "            X_train, Y_train, X_test, Y_test = self.cross_validation(X_lowd)\n",
    "            clf.fit(X_train, Y_train)\n",
    "            acc = clf.score(X_test, Y_test)\n",
    "            print(acc)\n",
    "            acc_lr.append(acc)\n",
    "        \n",
    "        return acc_lr\n",
    "        \n",
    "    def get_prob(self):\n",
    "        \"\"\"获取分类概率\"\"\"\n",
    "        tfidf = self.proprocessing()\n",
    "        X_lowd = self.lower_dimension(tfidf)\n",
    "        acc_li = []\n",
    "        \n",
    "        clf = RandomForestClassifier(n_estimators=100, n_jobs=multiprocessing.cpu_count()-2, class_weight='balanced')  # 参数设置\n",
    "        \n",
    "        X_train, Y_train, X_test, Y_test = self.cross_validation(X_lowd)\n",
    "        clf.fit(X_train, Y_train)\n",
    "        print(clf.classes_ )\n",
    "        p = clf.predict_proba(X_test[:5])\n",
    "        return p\n",
    "    \n",
    "    def class_report(self):\n",
    "        \"\"\"获取完整的分类报告:精确率、召回率等\"\"\"\n",
    "        tfidf = self.proprocessing()\n",
    "        X_lowd = self.lower_dimension(tfidf)\n",
    "        acc_li = []\n",
    "             \n",
    "        clf = RandomForestClassifier(n_estimators=120, n_jobs=multiprocessing.cpu_count()-2, class_weight='balanced')  # 参数设置   \n",
    "        X_train, Y_train, X_test, Y_test = self.cross_validation(X_lowd)\n",
    "        clf.fit(X_train, Y_train)\n",
    "        \n",
    "#         joblib.dump(clf, 'rfmodel.pkl')  # 存储模型\n",
    "\n",
    "        Y_pred = clf.predict(X_test)\n",
    "        report = classification_report(Y_test, Y_pred)\n",
    "        print(report)\n",
    "        print(type(report))\n",
    "        return report"
   ]
  },
  {
   "cell_type": "code",
   "execution_count": 17,
   "metadata": {},
   "outputs": [
    {
     "name": "stdout",
     "output_type": "stream",
     "text": [
      "特征数量为:1127\n",
      "文本向量维度:(100093, 1127)\n",
      "             precision    recall  f1-score   support\n",
      "\n",
      "       三农相关       0.71      0.55      0.62        58\n",
      "       党政群体       0.96      0.91      0.93      3069\n",
      "       城市综合       0.85      0.95      0.90      4577\n",
      "       安全监管       0.55      0.29      0.38        62\n",
      "       民生保障       0.77      0.67      0.72       279\n",
      "       治安法制       0.82      0.55      0.66       737\n",
      "       科教文卫       0.69      0.67      0.68       278\n",
      "       经济综合       0.47      0.24      0.32        37\n",
      "       行业监管       0.74      0.56      0.64       101\n",
      "       资源监管       0.93      0.89      0.91       812\n",
      "\n",
      "avg / total       0.88      0.88      0.87     10010\n",
      "\n",
      "<class 'str'>\n"
     ]
    }
   ],
   "source": [
    "tc = Textclassify(data_list, Y, s_words)\n",
    "\n",
    "# p = tc.get_prob()\n",
    "# p\n",
    "tc.class_report()\n",
    "# acc_d = tc.rf_classify()\n",
    "# acc_lr = tc.lr_classify()\n"
   ]
  },
  {
   "cell_type": "code",
   "execution_count": 16,
   "metadata": {
    "collapsed": true
   },
   "outputs": [],
   "source": [
    "with open('rf.json', 'w') as f:\n",
    "    json.dump(acc_d, f,ensure_ascii=False)\n",
    "\n",
    "acc_s = []\n",
    "for est in acc_d.keys():\n",
    "    acc_s.append(acc_d[est])\n",
    "\n",
    "acc_s = np.array(acc_s)\n",
    "acc_ave = np.average(acc_s, axis=1)   "
   ]
  },
  {
   "cell_type": "code",
   "execution_count": 17,
   "metadata": {
    "collapsed": true
   },
   "outputs": [],
   "source": [
    "import matplotlib.pyplot as plt\n",
    "plt.rcParams['font.sans-serif'] = ['SimHei']\n",
    "plt.rcParams['axes.unicode_minus'] = False"
   ]
  },
  {
   "cell_type": "code",
   "execution_count": 18,
   "metadata": {},
   "outputs": [
    {
     "data": {
      "text/plain": [
       "<matplotlib.text.Text at 0x212bcca43c8>"
      ]
     },
     "execution_count": 18,
     "metadata": {},
     "output_type": "execute_result"
    }
   ],
   "source": [
    "plt.plot(np.arange(10,150,10), acc_ave, marker='*', markersize=5)\n",
    "plt.xticks(np.arange(10,150,10))\n",
    "plt.ylabel('预测准确率')\n",
    "plt.xlabel('随机森林中子树个数')\n",
    "# plt.legend()"
   ]
  },
  {
   "cell_type": "code",
   "execution_count": 19,
   "metadata": {},
   "outputs": [
    {
     "data": {
      "image/png": "[encoded data removed]",
      "text/plain": [
       "<matplotlib.figure.Figure at 0x212bc4e5b38>"
      ]
     },
     "metadata": {},
     "output_type": "display_data"
    }
   ],
   "source": [
    "plt.show()"
   ]
  },
  {
   "cell_type": "code",
   "execution_count": 23,
   "metadata": {
    "collapsed": true
   },
   "outputs": [],
   "source": [
    "plt.savefig('rf.png',bbox_inches='tight')"
   ]
  },
  {
   "cell_type": "code",
   "execution_count": null,
   "metadata": {
    "collapsed": true
   },
   "outputs": [],
   "source": []
  }
 ],
 "metadata": {
  "kernelspec": {
   "display_name": "Python 3",
   "language": "python",
   "name": "python3"
  },
  "language_info": {
   "codemirror_mode": {
    "name": "ipython",
    "version": 3
   },
   "file_extension": ".py",
   "mimetype": "text/x-python",
   "name": "python",
   "nbconvert_exporter": "python",
   "pygments_lexer": "ipython3",
   "version": "3.6.1"
  }
 },
 "nbformat": 4,
 "nbformat_minor": 2
}
