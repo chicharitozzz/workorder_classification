{
 "cells": [
  {
   "cell_type": "markdown",
   "metadata": {},
   "source": [
    "## 文本聚类，待完善"
   ]
  },
  {
   "cell_type": "code",
   "execution_count": 3,
   "metadata": {
    "collapsed": true
   },
   "outputs": [],
   "source": [
    "import json\n",
    "import numpy as np"
   ]
  },
  {
   "cell_type": "code",
   "execution_count": 4,
   "metadata": {
    "collapsed": true
   },
   "outputs": [],
   "source": [
    "with open('./2018年数据.json', encoding='utf-8') as f:\n",
    "    data = json.load(f)"
   ]
  },
  {
   "cell_type": "code",
   "execution_count": 5,
   "metadata": {
    "collapsed": true
   },
   "outputs": [],
   "source": [
    "data = np.array(data)"
   ]
  },
  {
   "cell_type": "code",
   "execution_count": 6,
   "metadata": {
    "collapsed": true
   },
   "outputs": [],
   "source": [
    "labels = data[:,1]   # 类别"
   ]
  },
  {
   "cell_type": "code",
   "execution_count": 7,
   "metadata": {
    "collapsed": true
   },
   "outputs": [
    {
     "data": {
      "text/plain": [
       "{'非受理范围',\n",
       " '资源监管',\n",
       " '三农相关',\n",
       " '科教文卫',\n",
       " '经济综合',\n",
       " '民生保障',\n",
       " '治安法制',\n",
       " '党政群体',\n",
       " '城市综合',\n",
       " '行业监管',\n",
       " None,\n",
       " '安全监管'}"
      ]
     },
     "execution_count": 7,
     "metadata": {},
     "output_type": "execute_result"
    }
   ],
   "source": [
    "classes = set(labels)\n",
    "classes"
   ]
  },
  {
   "cell_type": "code",
   "execution_count": 19,
   "metadata": {
    "scrolled": true
   },
   "outputs": [
    {
     "data": {
      "text/plain": [
       "681"
      ]
     },
     "execution_count": 19,
     "metadata": {},
     "output_type": "execute_result"
    }
   ],
   "source": [
    "sub_dataset = data[data[:, 1] == '安全监管'][:,0]\n",
    "len(sub_dataset)"
   ]
  },
  {
   "cell_type": "code",
   "execution_count": 88,
   "metadata": {
    "collapsed": true
   },
   "outputs": [
    {
     "name": "stdout",
     "output_type": "stream",
     "text": [
      "1. m\n",
      "问题 n\n",
      "描述 v\n",
      "： x\n",
      "市民 n\n",
      "咨询 vn\n",
      "如何 r\n",
      "在 p\n",
      "网上 s\n",
      "查询 v\n",
      "特种 n\n",
      "作业 n\n",
      "操作证 nr\n",
      "信息 n\n",
      "。 x\n",
      "2. m\n",
      "来电 v\n",
      "目的 n\n",
      "： x\n",
      "咨询 vn\n",
      "如何 r\n",
      "在 p\n",
      "网上 s\n",
      "查询 v\n",
      "特种 n\n",
      "作业 n\n",
      "操作证 nr\n",
      "信息 n\n",
      "。 x\n"
     ]
    }
   ],
   "source": [
    "# 词性分析\n",
    "import jieba.posseg as pseg\n",
    "pairs = list(pseg.cut(''.join(re.split(r'\\n+',sub_dataset[0].strip()))))\n",
    "for p in pairs:\n",
    "    print(p.word, p.flag)"
   ]
  },
  {
   "cell_type": "code",
   "execution_count": 9,
   "metadata": {
    "collapsed": true
   },
   "outputs": [],
   "source": [
    "import jieba\n",
    "import re"
   ]
  },
  {
   "cell_type": "code",
   "execution_count": 10,
   "metadata": {},
   "outputs": [
    {
     "name": "stderr",
     "output_type": "stream",
     "text": [
      "Building prefix dict from the default dictionary ...\n",
      "Loading model from cache C:\\Users\\44502\\AppData\\Local\\Temp\\jieba.cache\n",
      "Loading model cost 0.954 seconds.\n",
      "Prefix dict has been built succesfully.\n"
     ]
    }
   ],
   "source": [
    "# 分词字典中增加新词\n",
    "jieba.add_word('铜山区',tag='n')\n",
    "jieba.add_word('法桐树',tag='n')\n",
    "jieba.add_word('12345热线',tag='n')"
   ]
  },
  {
   "cell_type": "code",
   "execution_count": 11,
   "metadata": {
    "collapsed": true
   },
   "outputs": [
    {
     "data": {
      "text/plain": [
       "['市民 咨询 如何 在 网上 查询 特种 作业 操作证 信息 。',\n",
       " '市民 反映 其至 某家 洗衣店 进行 洗衣服 ， 工作人员 将 其 衣服 洗坏 ， 市民 要求 商家 赔偿 ， 但 商家 表示 不愿 赔偿 ， 后经 工商局 协调 ， 市民 可以 进行 质量 检测 。',\n",
       " '市民 反映 2018 年 5 月 15 日 在 泉山区 西关 大润发 （ 建国 店 ） 购买 一件 妙卡 容情 巧克力 252g ， 共 39.9 元 ， 购买 后 发现 其是 过期 食品 ， 商品 的 生产日期 为 2017 年 2 月 13 日 ， 保 日期 12 个 月 ， 市民 向 店家 反映 ， 工作人员 不予 退货 ， 联系 厂家 人员 态度恶劣 ， 市民 非常 生气 。',\n",
       " '转接 12365 处理 ： 市民 咨询 其 申请 办理 的 条形码 领取 地址 。',\n",
       " '转接 12365 处理 ： 市民 反映 其 购买 的 玉器 存在 质量 问题 ， 咨询 如何 检测 。',\n",
       " '市民 咨询 徐州市 质监局 能否 对 玉器 的 真假 性 进行 鉴定 。',\n",
       " '转接 12365 处理 ： 市民 反映 其 需要 检测工具 力值 。',\n",
       " '市民 反映 泉山区 海尔 滟 澜 公馆 智慧 城 小区 5 号楼 2 单元 的 电梯 ， 经常 从 6 楼坠 到 4 楼 ， 电梯 频繁 出现 问题 ， 电梯 内 的 按键 不灵 、 门 关不上 、 出现 困人 等 多个 问题 ， 存在 严重 安全隐患 。',\n",
       " '市民 反映 2018 年 4 月 25 日 12 ： 30 左右 其 在 新城区 机关 加油站 加油 ， 机器 号 ： 机关 加油站 5 号 ， 市民 表示 前期 加 100 元 92 号 汽油 ， 显示 增加 170 公里 可 使用 路程 ， 此次 加油 ， 只 显示 增加 120 公里 可 使用 路程 ， 车牌号 ： 苏 C87C31 ， 市民 怀疑 此处 计量 不准 。',\n",
       " '市民 反映 快递 邮寄 人 （ 姓名 ： 张浩 ， 手机号码 ： 18052180317 ） 在 鼓楼区 黄河 北路 64 号 怡和 小区 南门 西 隔壁 的 申通 快递 营业网点 储存 并 邮寄 运输 大量 危险 化学品 （ 如 ： 易燃易爆 的 打火机 、 煤油 等 ） 通往 全国 各地 。 市民 认为 该 行为 存在 极大 的 安全隐患 ， 对此 感到 十分 担忧 。']"
      ]
     },
     "execution_count": 11,
     "metadata": {},
     "output_type": "execute_result"
    }
   ],
   "source": [
    "# 切分字符串并分词\n",
    "data_list = []\n",
    "for d in sub_dataset:\n",
    "    if not d.startswith('#'):\n",
    "        query_s = re.split(r'\\n+',d.strip())\n",
    "        if len(query_s) == 2:\n",
    "            q = query_s[0][7:]\n",
    "        elif len(query_s) == 3:\n",
    "            q = query_s[1][7:]\n",
    "        \n",
    "        data_list.append(' '.join(jieba.cut(q, cut_all=False)))\n",
    "data_list[:10]"
   ]
  },
  {
   "cell_type": "code",
   "execution_count": 12,
   "metadata": {
    "collapsed": true
   },
   "outputs": [
    {
     "data": {
      "text/plain": [
       "['市民',\n",
       " '咨询',\n",
       " '反映',\n",
       " '希望',\n",
       " '要求',\n",
       " '请',\n",
       " '妥善',\n",
       " '保管',\n",
       " '好',\n",
       " '相关',\n",
       " '信息',\n",
       " '以防',\n",
       " '泄露',\n",
       " '联系',\n",
       " '告知',\n",
       " '处理结果',\n",
       " '谢谢',\n",
       " '工作人员',\n",
       " '!',\n",
       " '\"']"
      ]
     },
     "execution_count": 12,
     "metadata": {},
     "output_type": "execute_result"
    }
   ],
   "source": [
    "# 更新停用词列表\n",
    "def get_stop_words():\n",
    "    \"\"\"停用词列表\"\"\"\n",
    "    stop_words = []\n",
    "    with open(r'.\\static\\停用词.txt') as f:\n",
    "        lines = f.readlines()\n",
    "        \n",
    "    for line in lines:\n",
    "        stop_words.append(line.strip())\n",
    "    \n",
    "    return stop_words\n",
    "\n",
    "s_words = get_stop_words()\n",
    "s_words[:20]"
   ]
  },
  {
   "cell_type": "code",
   "execution_count": 13,
   "metadata": {
    "collapsed": true
   },
   "outputs": [
    {
     "data": {
      "text/plain": [
       "[('电梯', 0.2915196916945884),\n",
       " ('泉山区', 0.1567805197520518),\n",
       " ('小区', 0.12062882810596497),\n",
       " ('单元', 0.09519551147195363),\n",
       " ('检测', 0.08407718609356968),\n",
       " ('徐州市', 0.08163224408564175),\n",
       " ('云龙区', 0.07687302903971571),\n",
       " ('鼓楼区', 0.07151890601316524),\n",
       " ('转接', 0.070423352842034),\n",
       " ('罐车', 0.06205868534914967),\n",
       " ('购买', 0.05687752969005161),\n",
       " ('特种设备', 0.04574251390324054),\n",
       " ('居民', 0.045372093596585165),\n",
       " ('开发区', 0.04484531772121161),\n",
       " ('维修', 0.04429409787573399),\n",
       " ('损坏', 0.04429397684253998),\n",
       " ('新沂市', 0.039518327278196125),\n",
       " ('徐州', 0.037544020222517134),\n",
       " ('压力', 0.03464804238883154),\n",
       " ('业主', 0.03401187125065403),\n",
       " ('办理', 0.03392730484329639),\n",
       " ('物业', 0.033617927827443946),\n",
       " ('故障', 0.03066753156451138),\n",
       " ('新城区', 0.030552547167484557),\n",
       " ('质量', 0.029419079023673748),\n",
       " ('不合理', 0.02743614196881631),\n",
       " ('物业公司', 0.026711984312921568),\n",
       " ('合格', 0.024972282657142738),\n",
       " ('压力表', 0.024275693380962856),\n",
       " ('食品', 0.02334916812555377),\n",
       " ('张贴', 0.02255210052196802),\n",
       " ('雨润', 0.0223578425804552),\n",
       " ('超市', 0.021760775634113716),\n",
       " ('就餐', 0.02157243932088163),\n",
       " ('狗肉', 0.02088866647186733),\n",
       " ('有限公司', 0.02065347929433201)]"
      ]
     },
     "execution_count": 13,
     "metadata": {},
     "output_type": "execute_result"
    }
   ],
   "source": [
    "# 关键词提取\n",
    "from functools import reduce\n",
    "import jieba.analyse\n",
    "\n",
    "summary_s = reduce(lambda x,y:x+y, data_list)\n",
    "\n",
    "key_words = jieba.analyse.extract_tags(summary_s, topK=50, allowPOS=('n', 'ns', 'v', 'vn', 'nr', 'nt'), withWeight=True)\n",
    "\n",
    "for kw in key_words[::-1]:\n",
    "    if kw[0] in s_words:\n",
    "        key_words.remove(kw)\n",
    "\n",
    "key_words"
   ]
  },
  {
   "cell_type": "code",
   "execution_count": 14,
   "metadata": {
    "collapsed": true
   },
   "outputs": [],
   "source": [
    "# 预处理\n",
    "from sklearn.feature_extraction.text import CountVectorizer\n",
    "from sklearn.feature_extraction.text import TfidfTransformer"
   ]
  },
  {
   "cell_type": "code",
   "execution_count": 20,
   "metadata": {
    "collapsed": true
   },
   "outputs": [],
   "source": [
    "cv = CountVectorizer(stop_words=s_words, min_df=1e-3, max_df=0.1)\n",
    "data_vec = cv.fit_transform(data_list)"
   ]
  },
  {
   "cell_type": "code",
   "execution_count": 21,
   "metadata": {
    "collapsed": true
   },
   "outputs": [
    {
     "data": {
      "text/plain": [
       "['00',\n",
       " '01',\n",
       " '01057384627',\n",
       " '01057384629',\n",
       " '0516',\n",
       " '051685790890',\n",
       " '051687922733',\n",
       " '10',\n",
       " '100',\n",
       " '1001',\n",
       " '100114',\n",
       " '10041',\n",
       " '101',\n",
       " '1016',\n",
       " '102',\n",
       " '104',\n",
       " '108',\n",
       " '11',\n",
       " '111',\n",
       " '113',\n",
       " '115',\n",
       " '12',\n",
       " '120',\n",
       " '1200',\n",
       " '12331',\n",
       " '12345',\n",
       " '12345热线',\n",
       " '12350',\n",
       " '13',\n",
       " '1302',\n",
       " '14',\n",
       " '143238715889308083',\n",
       " '15',\n",
       " '1503',\n",
       " '15062107535',\n",
       " '16',\n",
       " '160',\n",
       " '164',\n",
       " '17',\n",
       " '170',\n",
       " '17558444644',\n",
       " '177',\n",
       " '178',\n",
       " '18',\n",
       " '18052180317',\n",
       " '1818',\n",
       " '18852288225',\n",
       " '19',\n",
       " '1a',\n",
       " '20',\n",
       " '200',\n",
       " '2011',\n",
       " '2013',\n",
       " '2014',\n",
       " '2015',\n",
       " '2016',\n",
       " '2016gxwp00268',\n",
       " '2017',\n",
       " '206',\n",
       " '21',\n",
       " '22',\n",
       " '224g',\n",
       " '226',\n",
       " '23',\n",
       " '231696001687003705',\n",
       " '24',\n",
       " '25',\n",
       " '250',\n",
       " '252g',\n",
       " '26',\n",
       " '27',\n",
       " '28',\n",
       " '288',\n",
       " '29',\n",
       " '30',\n",
       " '31',\n",
       " '310',\n",
       " '32',\n",
       " '320301600328358',\n",
       " '320302197101262030',\n",
       " '320304196708242413',\n",
       " '320305198112111530',\n",
       " '320322198111217815',\n",
       " '320322198805262813',\n",
       " '320323197201283834',\n",
       " '320323198411076010',\n",
       " '321088196503197710',\n",
       " '322',\n",
       " '3255',\n",
       " '33',\n",
       " '3360107226941',\n",
       " '34',\n",
       " '340602198506162817',\n",
       " '340702198610030537',\n",
       " '341227198304163471',\n",
       " '35',\n",
       " '350',\n",
       " '3510',\n",
       " '36',\n",
       " '38',\n",
       " '381',\n",
       " '39',\n",
       " '3c',\n",
       " '40',\n",
       " '403',\n",
       " '411423199009130579',\n",
       " '42',\n",
       " '4750',\n",
       " '492',\n",
       " '4s店',\n",
       " '50',\n",
       " '500',\n",
       " '500ml',\n",
       " '501',\n",
       " '503',\n",
       " '510225196803171854',\n",
       " '512',\n",
       " '52',\n",
       " '526',\n",
       " '530',\n",
       " '534500000201710260002',\n",
       " '55',\n",
       " '57',\n",
       " '58',\n",
       " '59',\n",
       " '5g',\n",
       " '60',\n",
       " '600',\n",
       " '602',\n",
       " '64',\n",
       " '65',\n",
       " '67',\n",
       " '685',\n",
       " '75',\n",
       " '750',\n",
       " '83828875',\n",
       " '85803721',\n",
       " '88',\n",
       " '92',\n",
       " '95',\n",
       " '96333',\n",
       " '98',\n",
       " '99',\n",
       " 'a1',\n",
       " 'a21',\n",
       " 'a3',\n",
       " 'a座',\n",
       " 'b11',\n",
       " 'b176',\n",
       " 'b座']"
      ]
     },
     "execution_count": 21,
     "metadata": {},
     "output_type": "execute_result"
    }
   ],
   "source": [
    "cv.get_feature_names()[:150]"
   ]
  },
  {
   "cell_type": "code",
   "execution_count": 22,
   "metadata": {},
   "outputs": [
    {
     "data": {
      "text/plain": [
       "(660, 2569)"
      ]
     },
     "execution_count": 22,
     "metadata": {},
     "output_type": "execute_result"
    }
   ],
   "source": [
    "transformer = TfidfTransformer()\n",
    "tfidf = transformer.fit_transform(data_vec)\n",
    "tfidf = tfidf.toarray()\n",
    "tfidf.shape"
   ]
  },
  {
   "cell_type": "code",
   "execution_count": 23,
   "metadata": {
    "collapsed": true
   },
   "outputs": [],
   "source": [
    "from sklearn.decomposition import PCA"
   ]
  },
  {
   "cell_type": "code",
   "execution_count": 24,
   "metadata": {
    "collapsed": true
   },
   "outputs": [],
   "source": [
    "pca = PCA(n_components=200, copy=False)\n",
    "lowd_d = pca.fit_transform(tfidf)"
   ]
  },
  {
   "cell_type": "code",
   "execution_count": 42,
   "metadata": {
    "collapsed": true
   },
   "outputs": [],
   "source": [
    "# K-means\n",
    "from sklearn.cluster import KMeans\n",
    "kms = KMeans(n_clusters=10, n_jobs=-1)\n",
    "res = kms.fit_predict(lowd_d)"
   ]
  },
  {
   "cell_type": "code",
   "execution_count": 66,
   "metadata": {
    "collapsed": true
   },
   "outputs": [
    {
     "data": {
      "text/plain": [
       "array([ '市民 是 鼓楼区 棕榈 湾 小区 二期 17 号楼 1 单元 403 室 业主 ， 反映 该 单元 东侧 通往 地下室 的 电梯 损坏 ， 至今 没有 维修 。',\n",
       "       '市民 是 鼓楼区 畔 苑 小区 2 号楼 2 单元 1302 室 居民 ， 2018 年 5 月 3 日 10 ： 00 物业公司 与 铜沛 街道 办事处 工作人员 私自 将 13 楼 ， 10 楼 、 9 楼 、 8 楼 、 7 楼其 放在 门口 的 纸箱 及 纸箱 内 的 物品 全部 拉走 ， 拉走 过程 当中 将 单元 的 电梯 损坏 ， 电梯 损坏 ， 市民 自行 与 物业公司 反映 ， 物业公司 表示 已 维修 完毕 ， 但 市民 表示 至今 未有 工作人员 进行 电梯 维修 ， 严重 影响 居民 出行 。',\n",
       "       '市民 反映 泉山区 中凯 城市之光 小区 6 号楼 北侧 的 电梯 损坏 ， 至今 无人 进行 维修 ， 并 表示 6 号楼 的 2 部 电梯 内均 未 张贴 相关 的 检测 标识 ， 存在 安全隐患 。',\n",
       "       '市民 反映 云龙区 尚景 名庭 小区 4 号楼 3 单元 的 电梯 （ 仅 有 一部 ） 损坏 ， 影响 正常 生活 。',\n",
       "       '市民 反映 泉山区 海尔 滟 澜 公馆 7 号楼 1 单元 东侧 的 电梯 损坏 。',\n",
       "       '市民 反映 泉山区 海尔 滟 澜 公馆 7 号楼 1 单元 西侧 的 电梯 经常出现 损坏 ， 存在 一定 的 安全隐患 。',\n",
       "       '市民 反映 泉山区 雨润 新城 小区 8 号楼 的 电梯 （ 仅 有 一部 ） 损坏 ， 影响 正常 生活 。',\n",
       "       '市民 反映 睢宁县 尚 都 国际 3 号楼 2 单元 北侧 的 电梯 损坏 ， 现已 停运 1 年 左右 ， 严重 影响 居民 出行 。',\n",
       "       '市民 反映 泉山区 雨润 新城 玉兰 苑 1 号楼 电梯 已经 损坏 ， 无法 使用 。',\n",
       "       '市民 反映 经济 技术开发区 东贺 花园 B 区 21 号楼 1 单元 的 电梯 损坏 ， 无人 维修 。',\n",
       "       '市民 反映 泉山区 西城 晶华 5 号楼 2 单元 的 电梯 已损坏 5 天 ， 一直 无人 维修 。',\n",
       "       '市民 反映 开发区 东贺 小区 B 区 16 号楼 1 单元 有 2 部 电梯 ， 现 南侧 的 电梯 损坏 无人 维修 。',\n",
       "       '市民 反映 泉山区 雨润 新城 小区 8 号楼 的 东侧 电梯 损坏 停运 （ 一梯 四户 ） ， 一直 无人 处理 ， 影响 居民 生活 。  ',\n",
       "       '市民 是 泉山区 雨润 新城 小区 玉兰 苑 8 号楼 的 居民 ， 反映 8 号楼 的 两部 电梯 反复 存在 进水 的 情况 ， 影响 居民 正常 乘坐 ， 向 物业公司 反映 ， 工作人员 表示 为 工程部 的 问题 ， 且 为 自来水管 漏水 导致 ， 市民 表示 每次 电梯 进水 工作人员 只是 将 电梯 内 的 水 晾干 ， 再 继续 运行 ， 给 居民 乘坐 电梯 带来 安全隐患 ， 并 表示 需 将 电梯 进水 的 根本 问题 解决 ， 维修 管道 才 可 安全 乘坐 。',\n",
       "       '市民 是 泉山区 雨润 新城 小区 玉兰 苑 8 号楼 的 居民 ， 反映 8 号楼 的 两部 电梯 反复 存在 进水 的 情况 ， 影响 居民 正常 乘坐 ， 向 物业公司 反映 ， 工作人员 表示 为 工程部 的 问题 ， 且 为 自来水管 漏水 导致 ， 市民 表示 每次 电梯 进水 工作人员 只是 将 电梯 内 的 水 晾干 ， 再 继续 运行 ， 给 居民 乘坐 电梯 带来 安全隐患 ， 并 表示 需 将 电梯 进水 的 根本 问题 解决 ， 维修 管道 才 可 安全 乘坐 。',\n",
       "       '1 、 市民 反映 泉山区 雨润 新城 小区 8 号楼 南侧 外 墙体开裂 ， 楼 内 管道 漏水 ， 导致 电梯 井内 积水 严重 ， 市民 多次 向 小区 开发商 以及 物业 进行 反映 ， 但 一直 无人 进行 维修 。 2 、 市民 反映 泉山区 雨润 新城 小区 8 号楼 的 东侧 电梯 损坏 停运 （ 一梯 四户 ） ， 一直 无人 处理 ， 影响 居民 生活 。',\n",
       "       '1 、 市民 反映 泉山区 雨润 新城 小区 8 号楼 南侧 外 墙体开裂 ， 楼 内 管道 漏水 ， 导致 电梯 井内 积水 严重 ， 市民 多次 向 小区 开发商 以及 物业 进行 反映 ， 但 一直 无人 进行 维修 。 2 、 市民 反映 泉山区 雨润 新城 小区 8 号楼 的 东侧 电梯 损坏 停运 （ 一梯 四户 ） ， 一直 无人 处理 ， 影响 居民 生活 。',\n",
       "       '1 、 市民 反映 泉山区 雨润 新城 小区 8 号楼 南侧 外 墙体开裂 ， 楼 内 管道 漏水 ， 导致 电梯 井内 积水 严重 ， 市民 多次 向 小区 开发商 以及 物业 进行 反映 ， 但 一直 无人 进行 维修 。 2 、 市民 反映 泉山区 雨润 新城 小区 8 号楼 的 东侧 电梯 损坏 停运 （ 一梯 四户 ） ， 一直 无人 处理 ， 影响 居民 生活 。',\n",
       "       '1 . 问题 描述 ： 市民 是 泉山区 雨润 新城 小区 玉兰 苑 8 号楼 的 居民 ， 反映 8 号楼 的 两部 电梯 反复 存在 进水 的 情况 ， 影响 居民 正常 乘坐 ， 向 物业公司 反映 ， 工作人员 表示 为 工程部 的 问题 ， 且 为 自来水管 漏水 导致 ， 市民 表示 每次 电梯 进水 工作人员 只是 将 电梯 内 的 水 晾干 ， 再 继续 运行 ， 给 居民 乘坐 电梯 带来 安全隐患 ， 并 表示 需 将 电梯 进水 的 根本 问题 解决 ， 维修 管道 才 可 安全 乘坐 。',\n",
       "       '1 . 问题 描述 ： 市民 是 泉山区 雨润 新城 小区 玉兰 苑 8 号楼 的 居民 ， 反映 8 号楼 的 两部 电梯 反复 存在 进水 的 情况 ， 影响 居民 正常 乘坐 ， 向 物业公司 反映 ， 工作人员 表示 为 工程部 的 问题 ， 且 为 自来水管 漏水 导致 ， 市民 表示 每次 电梯 进水 工作人员 只是 将 电梯 内 的 水 晾干 ， 再 继续 运行 ， 给 居民 乘坐 电梯 带来 安全隐患 ， 并 表示 需 将 电梯 进水 的 根本 问题 解决 ， 维修 管道 才 可 安全 乘坐 。',\n",
       "       '1 . 问题 描述 ： 市民 是 泉山区 雨润 新城 小区 玉兰 苑 8 号楼 的 居民 ， 反映 8 号楼 的 两部 电梯 反复 存在 进水 的 情况 ， 影响 居民 正常 乘坐 ， 向 物业公司 反映 ， 工作人员 表示 为 工程部 的 问题 ， 且 为 自来水管 漏水 导致 ， 市民 表示 每次 电梯 进水 工作人员 只是 将 电梯 内 的 水 晾干 ， 再 继续 运行 ， 给 居民 乘坐 电梯 带来 安全隐患 ， 并 表示 需 将 电梯 进水 的 根本 问题 解决 ， 维修 管道 才 可 安全 乘坐 。',\n",
       "       '市民 反映 泉山区 雨润 新城 小区 8 号楼 的 东侧 电梯 损坏 停运 （ 一梯 四户 ） ， 一直 无人 处理 ， 影响 居民 生活 。',\n",
       "       '市民 反映 泉山区 雨润 新城 小区 8 号楼 的 东侧 电梯 损坏 停运 （ 一梯 四户 ） ， 一直 无人 处理 ， 影响 居民 生活 。',\n",
       "       '市民 反映 泉山区 雨润 新城 小区 8 号楼 的 东侧 电梯 损坏 停运 （ 一梯 四户 ） ， 一直 无人 处理 ， 影响 居民 生活 。',\n",
       "       '市民 是 泉山区 鼎瑞雅居 小区 居民 ， 反映 1 号楼 共有 2 部 电梯 ， 有 一部 电梯 在 2018 年 春节 前 损坏 ， 但 至今 无人 维修 。',\n",
       "       '市民 反映 中国矿业大学 南湖 校区内 的 电梯 损坏 。',\n",
       "       '市民 反映 泉山区 碧水湾 小区 二期 A21 号楼 2 单元 8 层 的 电梯 按钮 损坏 ， 居民 无法 在 8 层 乘坐 电梯 必须 到 其他 楼层 才能 乘坐 电梯 。',\n",
       "       '市民 反映 泉山区 雨润 新城 小区 8 号楼 的 东侧 电梯 损坏 停运 （ 一梯 四户 ） ， 一直 无人 处理 ， 影响 居民 生活 。',\n",
       "       '市民 是 泉山区 鼎瑞雅居 小区 居民 ， 反映 1 号楼 共有 2 部 电梯 ， 有 一部 电梯 在 2018 年 春节 前 损坏 ， 但 至今 无人 维修 。',\n",
       "       '市民 是 泉山区 鼎瑞雅居 小区 居民 ， 反映 1 号楼 共有 2 部 电梯 ， 有 一部 电梯 在 2018 年 春节 前 损坏 ， 但 至今 无人 维修 。',\n",
       "       '市民 反映 泉山区 雨润 新城 小区 8 号楼 的 东侧 电梯 损坏 停运 （ 一梯 四户 ） ， 一直 无人 处理 ， 影响 居民 生活 。',\n",
       "       '市民 是 泉山区 雨润 新城 小区 玉兰 苑 8 号楼 的 居民 ， 反映 8 号楼 的 东侧 电梯 反复 存在 进水 的 情况 ， 影响 居民 正常 乘坐 ， 前期 通过 政府 热线 反映 ， 泉山区 回复 表示 已 与 物业公司 宋 经理 取得 了 联系 ， 得知 因 主管 道 脱节 而 漏水 ， 已 安排 维修 人员 正在 抢修 ， 水表 已 更换 过 。 市民 表示 目前 水表 已经 更换 好 ， 但是 电梯 依然 没有 修复 。',\n",
       "       '市民 反映 开发区 某 小区 的 电梯 损坏 。',\n",
       "       '市民 反映 睢宁县 彩虹 公寓 24 号楼 2 单元 的 电梯 警铃 损坏 ， 一直 未 进行 维修 ， 前期 通过 热线 反映 至 睢宁县 ， 处理结果 为 警铃 正在 维修 中 ， 物业 承诺 尽快 修好 ， 但 市民 表示 问题 仍 未 解决 ， 且 其 多次 向 质检 部门 进行 反映 ， 但 工作人员 不予 受理 。',\n",
       "       '市民 反映 开发区 和谐 家园 小区 电梯 损坏 ， 市民 被困 至 电梯 内 。',\n",
       "       '市民 反映 泉山区 雨润 新城 紫薇 园 2 号楼 货梯 损坏 ， 已有 一年 ， 前期 通过 政府 热线 反映 ， 泉山区 回复 已 与 物业公司 宋 经理 取得联系 ， 得知 该 电梯 已 维修 好 ， 市民 表示 电梯 并 没有 维修 好 ， 对此 不 认可 。',\n",
       "       '市民 反映 鼓楼区 中环 广场 4 号楼 以及 5 号楼 所有 的 电梯 经常 损坏 ， 现 4 号楼 有 3 部 电梯 已 停运 ， 市民 表示 电梯 存在 质量 问题 。  ',\n",
       "       '市民 反映 开发区 东贺 小区 B 区 18 号楼 1 单元 的 2 部 电梯 均 损坏 ， 影响 居民 正常 出行 。',\n",
       "       '市民 反映 泉山区 雨润 新城 紫薇 园 2 号楼 的 电梯 损坏 ， 已有 一年 。',\n",
       "       '市民 反映 新城区 华茂嘉园 6 号楼 一 单元 通向 地下室 的 电梯 总是 频繁 损坏 ， 维保后 依然 频繁 损坏 ， 市民 认为 存在 安全隐患 。',\n",
       "       '市民 反映 开发区 绿城 东方 雅园 小区 10 号楼 1 单元 共有 2 部 电梯 ， 其中 一部 电梯 损坏 ， 市民 已 向 小区 物业 反映 ， 物业公司 已 联系 电梯 维保 公司 维修 ， 但 电梯 维保 公司 至今 未 检查 出 损坏 原因 。',\n",
       "       '市民 咨询 前期 反映 泉山区 金庭嘉园 6 号楼 电梯 损坏 问题 的 处理 进度 。',\n",
       "       '市民 反映 新城区 中锐星 尚城 小区 1 期 6 号楼 1 单元 共有 2 部 电梯 ， 其中 一部 电梯 损坏 （ 靠近 01 室 一侧 ） ， 市民 已 向 小区 物业 反映 ， 但 电梯 未 进行 维修 。',\n",
       "       '市民 反映 泉山区 河畔 花城 小区 3 号楼 西侧 电梯 损坏 ， 无人 维修 。',\n",
       "       '市民 反映 新城区 中茵 龙湖 国际 小区 13 号楼 1 单元 南侧 的 电梯 已经 损坏 多日 ， 严重 影响 居民 使用 。',\n",
       "       '市民 反映 泉山区 雨润 新城 小区 玉兰 苑 8 号楼 的 电梯 一直 未 投入使用 ， 居民 多次 向 小区 物业 进行 反映 ， 物业 工作人员 表示 电梯 处于 维修 中 ， 但 一直 未 得到 解决 ， 严重 影响 居民 生活 。',\n",
       "       '市民 是 鼓楼区 棕榈 湾 小区 二期 17 号楼 1 单元 403 室 业主 ， 反映 该 单元 东侧 通往 地下室 的 电梯 损坏 ， 已经 持续 一个月 ， 至今 没有 维修 。',\n",
       "       '市民 是 睢宁县 某 小区 居民 ， 反映 其 小区 电梯 经常 损坏 ， 市民 表示 该 电梯 由 徐州 某 生产商 生产 。',\n",
       "       '市民 反映 泉山区 山水 丽庭 2 号楼 1 单元 2 部 电梯 经常 损坏 ， 且 仅 有 一部 电梯 至 23 层 ， 影响 23 楼 的 居民 使用 ， 市民 多次 向 小区 物业 反映 ， 物业 人员 不 积极 处理 。',\n",
       "       '市民 反映 睢宁县 水岸 馨 都 小区 9 号楼 1 单元 的 2 部 电梯 损坏 ， 至今 没有 维修 ， 影响 居民 上楼 。'], \n",
       "      dtype='<U322')"
      ]
     },
     "execution_count": 66,
     "metadata": {},
     "output_type": "execute_result"
    }
   ],
   "source": [
    "data_list = np.array(data_list)\n",
    "sub_data = data_list[res[:] == 6]\n",
    "sub_data[:50]"
   ]
  },
  {
   "cell_type": "code",
   "execution_count": 67,
   "metadata": {
    "collapsed": true
   },
   "outputs": [],
   "source": [
    "subdata_str = ''.join(sub_data)"
   ]
  },
  {
   "cell_type": "code",
   "execution_count": 68,
   "metadata": {
    "collapsed": true
   },
   "outputs": [],
   "source": [
    "# 词云\n",
    "from wordcloud import WordCloud\n",
    "import matplotlib.pyplot as plt\n",
    "f_path = 'C:\\Windows\\Fonts\\simsun.ttc'"
   ]
  },
  {
   "cell_type": "code",
   "execution_count": 69,
   "metadata": {
    "collapsed": true
   },
   "outputs": [
    {
     "data": {
      "image/png": "[encoded data removed]",
      "text/plain": [
       "<matplotlib.figure.Figure at 0x1b8091b60b8>"
      ]
     },
     "metadata": {},
     "output_type": "display_data"
    }
   ],
   "source": [
    "wc = WordCloud(font_path=f_path,stopwords=s_words,background_color='black',max_words=10,width=1600,height=1000, min_font_size=40, collocations=True).generate(subdata_str)\n",
    "plt.imshow(wc)\n",
    "plt.show()"
   ]
  },
  {
   "cell_type": "code",
   "execution_count": 71,
   "metadata": {
    "collapsed": true
   },
   "outputs": [],
   "source": [
    "# DBSCAN\n",
    "from sklearn.cluster import DBSCAN"
   ]
  },
  {
   "cell_type": "code",
   "execution_count": 72,
   "metadata": {
    "collapsed": true
   },
   "outputs": [],
   "source": [
    "dbs = DBSCAN()\n",
    "res = dbs.fit_predict(lowd_d)"
   ]
  },
  {
   "cell_type": "code",
   "execution_count": 74,
   "metadata": {},
   "outputs": [
    {
     "data": {
      "text/plain": [
       "{-1, 0, 1, 2, 3, 4, 5, 6, 7, 8, 9, 10, 11}"
      ]
     },
     "execution_count": 74,
     "metadata": {},
     "output_type": "execute_result"
    }
   ],
   "source": [
    "set(res)"
   ]
  },
  {
   "cell_type": "code",
   "execution_count": 82,
   "metadata": {
    "collapsed": true
   },
   "outputs": [
    {
     "data": {
      "text/plain": [
       "array(['转接 12365 处理 ： 市民 咨询 徐工 集团 使用 的 吊车 是否 应由 徐州市 质量技术监督局 颁发 合格证 标志 。',\n",
       "       '转接 12365 处理 ： 市民 咨询 徐工 集团 使用 的 吊车 是否 应由 徐州市 质量技术监督局 颁发 合格证 标志 。',\n",
       "       '转接 12365 处理 ： 市民 咨询 徐工 集团 使用 的 吊车 是否 应由 徐州市 质量技术监督局 颁发 合格证 标志 。',\n",
       "       '转接 12365 处理 ： 市民 咨询 徐工 集团 使用 的 吊车 是否 应由 徐州市 质量技术监督局 颁发 合格证 标志 。',\n",
       "       '转接 12365 处理 ： 市民 咨询 徐工 集团 使用 的 吊车 是否 应由 徐州市 质量技术监督局 颁发 合格证 标志 。',\n",
       "       '转接 12365 处理 ： 市民 咨询 徐工 集团 使用 的 吊车 是否 应由 徐州市 质量技术监督局 颁发 合格证 标志 。',\n",
       "       '转接 12365 处理 ： 市民 咨询 徐工 集团 使用 的 吊车 是否 应由 徐州市 质量技术监督局 颁发 合格证 标志 。',\n",
       "       '转接 12365 处理 ： 市民 咨询 徐工 集团 使用 的 吊车 是否 应由 徐州市 质量技术监督局 颁发 合格证 标志 。',\n",
       "       '转接 12365 处理 ： 市民 咨询 徐工 集团 使用 的 吊车 是否 应由 徐州市 质量技术监督局 颁发 合格证 标志 。',\n",
       "       '转接 12365 处理 ： 市民 咨询 徐工 集团 使用 的 吊车 是否 应由 徐州市 质量技术监督局 颁发 合格证 标志 。'], \n",
       "      dtype='<U322')"
      ]
     },
     "execution_count": 82,
     "metadata": {},
     "output_type": "execute_result"
    }
   ],
   "source": [
    "data_list[res[:] == 4]"
   ]
  },
  {
   "cell_type": "code",
   "execution_count": null,
   "metadata": {
    "collapsed": true
   },
   "outputs": [],
   "source": []
  }
 ],
 "metadata": {
  "kernelspec": {
   "display_name": "Python 3",
   "language": "python",
   "name": "python3"
  },
  "language_info": {
   "codemirror_mode": {
    "name": "ipython",
    "version": 3
   },
   "file_extension": ".py",
   "mimetype": "text/x-python",
   "name": "python",
   "nbconvert_exporter": "python",
   "pygments_lexer": "ipython3",
   "version": "3.6.1"
  }
 },
 "nbformat": 4,
 "nbformat_minor": 2
}
